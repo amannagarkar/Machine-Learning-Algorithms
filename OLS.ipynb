{
  "nbformat": 4,
  "nbformat_minor": 0,
  "metadata": {
    "colab": {
      "name": "Aman Nagarkar OLS.ipynb",
      "provenance": [],
      "collapsed_sections": []
    },
    "language_info": {
      "codemirror_mode": {
        "name": "ipython",
        "version": 3
      },
      "file_extension": ".py",
      "mimetype": "text/x-python",
      "name": "python",
      "nbconvert_exporter": "python",
      "pygments_lexer": "ipython3",
      "version": "3.5.5"
    },
    "kernelspec": {
      "display_name": "Python 3",
      "language": "python",
      "name": "python3"
    }
  },
  "cells": [
    {
      "cell_type": "markdown",
      "metadata": {
        "id": "VdZLXkr-hQVr"
      },
      "source": [
        "# Linear Regression with Batch Gradient Descent and OLS\n",
        "\n",
        "You will train your model using a real world dataset.  The dataset contains a collection of real estate listings in San Luis Obispo county.\n",
        "\n",
        "https://wiki.csc.calpoly.edu/datasets/wiki/Houses\n",
        "\n",
        "To make it simpler for this assignment, the dataset has been slightly modified.  It contains the following fields:\n",
        "\n",
        "1.\tMLS: Multiple listing service number for the house (unique ID).\n",
        "2.\tPrice: the most recent listing price of the house (in dollars).\n",
        "3.\tBedrooms: number of bedrooms.\n",
        "4.\tBathrooms: number of bathrooms.\n",
        "5.\tSize: size of the house in square feet.\n",
        "6.\tPrice/SQ.ft: price of the house per square foot.\n",
        "\n",
        "The model predict the housing price given the square footage of the house.\n"
      ]
    },
    {
      "cell_type": "code",
      "metadata": {
        "id": "dMvwE0CIa0r-"
      },
      "source": [
        "from google.colab import drive"
      ],
      "execution_count": 7,
      "outputs": []
    },
    {
      "cell_type": "code",
      "metadata": {
        "colab": {
          "base_uri": "https://localhost:8080/"
        },
        "id": "7Ud_VFxxa6uU",
        "outputId": "31d806cc-195f-4939-ad6e-c2bc2e1594a3"
      },
      "source": [
        "drive.mount('/content/drive')\n",
        "data_path = '/content/drive/MyDrive/Data/OLS/housing_price_data.csv'"
      ],
      "execution_count": 8,
      "outputs": [
        {
          "output_type": "stream",
          "name": "stdout",
          "text": [
            "Drive already mounted at /content/drive; to attempt to forcibly remount, call drive.mount(\"/content/drive\", force_remount=True).\n"
          ]
        }
      ]
    },
    {
      "cell_type": "code",
      "metadata": {
        "id": "UUs4O4TehQVt",
        "colab": {
          "base_uri": "https://localhost:8080/",
          "height": 204
        },
        "outputId": "22e8db0b-ed51-4dbe-acf4-2227049099db"
      },
      "source": [
        "import numpy as np\n",
        "import pandas as pd\n",
        "import numpy.matlib\n",
        "import matplotlib.pyplot as plt\n",
        "\n",
        "# read dataset\n",
        "df = pd.read_csv(data_path)\n",
        "\n",
        "df.head()"
      ],
      "execution_count": 9,
      "outputs": [
        {
          "output_type": "execute_result",
          "data": {
            "text/html": [
              "<div>\n",
              "<style scoped>\n",
              "    .dataframe tbody tr th:only-of-type {\n",
              "        vertical-align: middle;\n",
              "    }\n",
              "\n",
              "    .dataframe tbody tr th {\n",
              "        vertical-align: top;\n",
              "    }\n",
              "\n",
              "    .dataframe thead th {\n",
              "        text-align: right;\n",
              "    }\n",
              "</style>\n",
              "<table border=\"1\" class=\"dataframe\">\n",
              "  <thead>\n",
              "    <tr style=\"text-align: right;\">\n",
              "      <th></th>\n",
              "      <th>MPLS</th>\n",
              "      <th>Price</th>\n",
              "      <th>Bedrooms</th>\n",
              "      <th>Bathrooms</th>\n",
              "      <th>Size</th>\n",
              "      <th>PriceSq</th>\n",
              "    </tr>\n",
              "  </thead>\n",
              "  <tbody>\n",
              "    <tr>\n",
              "      <th>0</th>\n",
              "      <td>132842</td>\n",
              "      <td>795000</td>\n",
              "      <td>3</td>\n",
              "      <td>3</td>\n",
              "      <td>2371</td>\n",
              "      <td>335.30</td>\n",
              "    </tr>\n",
              "    <tr>\n",
              "      <th>1</th>\n",
              "      <td>134364</td>\n",
              "      <td>399000</td>\n",
              "      <td>4</td>\n",
              "      <td>3</td>\n",
              "      <td>2818</td>\n",
              "      <td>141.59</td>\n",
              "    </tr>\n",
              "    <tr>\n",
              "      <th>2</th>\n",
              "      <td>135141</td>\n",
              "      <td>545000</td>\n",
              "      <td>4</td>\n",
              "      <td>3</td>\n",
              "      <td>3032</td>\n",
              "      <td>179.75</td>\n",
              "    </tr>\n",
              "    <tr>\n",
              "      <th>3</th>\n",
              "      <td>135712</td>\n",
              "      <td>909000</td>\n",
              "      <td>4</td>\n",
              "      <td>4</td>\n",
              "      <td>3540</td>\n",
              "      <td>256.78</td>\n",
              "    </tr>\n",
              "    <tr>\n",
              "      <th>4</th>\n",
              "      <td>136282</td>\n",
              "      <td>109900</td>\n",
              "      <td>3</td>\n",
              "      <td>1</td>\n",
              "      <td>1249</td>\n",
              "      <td>87.99</td>\n",
              "    </tr>\n",
              "  </tbody>\n",
              "</table>\n",
              "</div>"
            ],
            "text/plain": [
              "     MPLS   Price  Bedrooms  Bathrooms  Size  PriceSq\n",
              "0  132842  795000         3          3  2371   335.30\n",
              "1  134364  399000         4          3  2818   141.59\n",
              "2  135141  545000         4          3  3032   179.75\n",
              "3  135712  909000         4          4  3540   256.78\n",
              "4  136282  109900         3          1  1249    87.99"
            ]
          },
          "metadata": {},
          "execution_count": 9
        }
      ]
    },
    {
      "cell_type": "code",
      "metadata": {
        "scrolled": true,
        "id": "6WrGP29dhQVz",
        "colab": {
          "base_uri": "https://localhost:8080/",
          "height": 290
        },
        "outputId": "28f16b3a-c064-4d81-b19c-127c15c532fc"
      },
      "source": [
        "# Plot data points\n",
        "X, y = (df[\"Size\"].values,df[\"Price\"].values)\n",
        "X = X.reshape(len(X),1)\n",
        "y = y.reshape(len(y),1)\n",
        "\n",
        "# plots the data points\n",
        "plt.plot(X, y, 'ro')\n",
        "plt.xlabel(\"# Square footage\")\n",
        "plt.ylabel(\"Price\")\n",
        "plt.show()"
      ],
      "execution_count": 10,
      "outputs": [
        {
          "output_type": "display_data",
          "data": {
            "image/png": "[encoded data removed]",
            "text/plain": [
              "<Figure size 432x288 with 1 Axes>"
            ]
          },
          "metadata": {
            "needs_background": "light"
          }
        }
      ]
    },
    {
      "cell_type": "code",
      "metadata": {
        "id": "HkcL562uhQV3",
        "colab": {
          "base_uri": "https://localhost:8080/"
        },
        "outputId": "f8ee16ad-67c2-4ac4-f351-ecc5ff9e065d"
      },
      "source": [
        "# Normalize the house size, e.g., divide by (mx-min) to ensure the scale is compatible with the bias, which is 1\n",
        "normalize = X.max(0) - X.min(0)\n",
        "X =  X / normalize\n",
        "\n",
        "# Add bias\n",
        "z=np.ones((len(X),1)) \n",
        "X = X.reshape(len(X),1)\n",
        "X = np.concatenate((z,X), axis=1)                \n",
        "y = y.reshape(len(X),1) \n",
        "\n",
        "# sort for testing/plotting\n",
        "Xsort = np.sort(X, axis=0)\n",
        "\n",
        "print(X.shape)\n",
        "print(y.shape)"
      ],
      "execution_count": 11,
      "outputs": [
        {
          "output_type": "stream",
          "name": "stdout",
          "text": [
            "(781, 2)\n",
            "(781, 1)\n"
          ]
        }
      ]
    },
    {
      "cell_type": "markdown",
      "metadata": {
        "id": "MT6yFyFphQV7"
      },
      "source": [
        "## Perform gradient descent"
      ]
    },
    {
      "cell_type": "code",
      "metadata": {
        "id": "ZQluC1rPhQV7"
      },
      "source": [
        "# Initialize vector w \n",
        "w = np.random.rand(2,1)\n",
        "\n",
        "# Learning rate\n",
        "nu = 0.01\n",
        "\n",
        "# Number of iterations\n",
        "MAX_ITR = 2000  \n",
        "\n",
        "mse = []                       \n",
        "\n",
        "# Loop\n",
        "for itr in range (0, MAX_ITR):\n",
        "    # Form W matrix -- this is to avoid having another for loop but if you don't to use it, that ok\n",
        "    W = (np.matlib.repmat(w.transpose(),len(X),1))   # 781x2\n",
        "    \n",
        "    # Update equation\n",
        "    fx = np.sum(np.multiply(W, X), axis=1, keepdims=True)    # element-wise multiplication  576x2\\\n",
        "    d1 = fx - y\n",
        "    w = w - nu*np.transpose(\\\n",
        "            np.mean(np.multiply(d1,X), axis=0, keepdims=True)) # average across columns\n",
        "    \n",
        "    # Find predicted value yhat and compute MSE\n",
        "    yhat = np.dot(X,w)\n",
        "    mse.append(np.sum((yhat-y)**2) / (2*len(y)))\n"
      ],
      "execution_count": 12,
      "outputs": []
    },
    {
      "cell_type": "code",
      "metadata": {
        "id": "eD8yLAyihQV-",
        "colab": {
          "base_uri": "https://localhost:8080/",
          "height": 290
        },
        "outputId": "5ab74a99-eed1-44b1-dd19-78bfb6f2565f"
      },
      "source": [
        "### Plot MSE vs iterations\n",
        "plt.plot(mse)  #\n",
        "plt.xlabel(\"Iterations\")\n",
        "plt.ylabel(\"MSE\")\n",
        "plt.show()"
      ],
      "execution_count": 13,
      "outputs": [
        {
          "output_type": "display_data",
          "data": {
            "image/png": "[encoded data removed]",
            "text/plain": [
              "<Figure size 432x288 with 1 Axes>"
            ]
          },
          "metadata": {
            "needs_background": "light"
          }
        }
      ]
    },
    {
      "cell_type": "code",
      "metadata": {
        "id": "TCD8jTp9DGVm",
        "colab": {
          "base_uri": "https://localhost:8080/",
          "height": 290
        },
        "outputId": "a1e61067-a48d-4d1a-8066-1d30f23201f9"
      },
      "source": [
        "### Plot fitted curve\n",
        "yhat = np.dot(np.sort(X, axis=0),w)\n",
        "\n",
        "plt.plot(X[:,1] * normalize, y, 'ro')\n",
        "plt.plot(Xsort[:,1] *normalize , yhat, 'b', label=\"Gradient descent\")\n",
        "plt.legend()\n",
        "plt.xlabel(\"# Square footage\")\n",
        "plt.ylabel(\"Price\")\n",
        "plt.show()"
      ],
      "execution_count": 14,
      "outputs": [
        {
          "output_type": "display_data",
          "data": {
            "image/png": "[encoded data removed]",
            "text/plain": [
              "<Figure size 432x288 with 1 Axes>"
            ]
          },
          "metadata": {
            "needs_background": "light"
          }
        }
      ]
    },
    {
      "cell_type": "markdown",
      "metadata": {
        "id": "A-Q1hE4IBohV"
      },
      "source": [
        "## **OLS METHOD**"
      ]
    },
    {
      "cell_type": "code",
      "metadata": {
        "id": "r5Q8-bjuhwd3",
        "colab": {
          "base_uri": "https://localhost:8080/"
        },
        "outputId": "575eface-82ac-407f-b45f-31ead2d7e31f"
      },
      "source": [
        "# Linear Regression by Ordinary Least Squares method\n",
        "# TO DO: compute w_ols\n",
        "xt = np.matmul(np.transpose(X), X)\n",
        "\n",
        "x_inv = np.matmul(np.linalg.inv(xt), np.transpose(X))\n",
        "w_ols = np.matmul(x_inv, y)\n",
        "\n",
        "\n",
        "print(w_ols)\n",
        "print(w)"
      ],
      "execution_count": 18,
      "outputs": [
        {
          "output_type": "stream",
          "name": "stdout",
          "text": [
            "[[-113509.75165712]\n",
            " [1891038.30009269]]\n",
            "[[247410.96328795]\n",
            " [536624.44718063]]\n"
          ]
        }
      ]
    },
    {
      "cell_type": "code",
      "metadata": {
        "id": "2OtZlb0fhQWB",
        "colab": {
          "base_uri": "https://localhost:8080/",
          "height": 290
        },
        "outputId": "ef247fdd-e3a5-46df-c0cf-c2972022dac2"
      },
      "source": [
        "### Plot both fitted curves\n",
        "\n",
        "yhat = np.dot(np.sort(X, axis=0),w)\n",
        "\n",
        "# Compute yhat_ols\n",
        "yhat_ols = np.dot(np.sort(X, axis=0),w_ols)\n",
        "\n",
        "plt.plot(X[:,1] * normalize, y, 'ro')\n",
        "plt.plot(Xsort[:,1] *normalize , yhat, 'b', label=\"Gradient descent\")\n",
        "plt.plot(Xsort[:,1] *normalize , yhat_ols, 'g', label=\"Ordinary Least Squares\")\n",
        "plt.legend()\n",
        "plt.xlabel(\"# Square footage\")\n",
        "plt.ylabel(\"Price\")\n",
        "plt.show()\n",
        "\n"
      ],
      "execution_count": 19,
      "outputs": [
        {
          "output_type": "display_data",
          "data": {
            "image/png": "[encoded data removed]",
            "text/plain": [
              "<Figure size 432x288 with 1 Axes>"
            ]
          },
          "metadata": {
            "needs_background": "light"
          }
        }
      ]
    },
    {
      "cell_type": "code",
      "metadata": {
        "id": "dY6QPJnHhQWF"
      },
      "source": [
        ""
      ],
      "execution_count": null,
      "outputs": []
    }
  ]
}