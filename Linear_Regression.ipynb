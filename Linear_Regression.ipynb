{
  "nbformat": 4,
  "nbformat_minor": 0,
  "metadata": {
    "colab": {
      "name": "Aman Nagarkar Linear Regression.ipynb",
      "provenance": [],
      "collapsed_sections": []
    },
    "language_info": {
      "codemirror_mode": {
        "name": "ipython",
        "version": 3
      },
      "file_extension": ".py",
      "mimetype": "text/x-python",
      "name": "python",
      "nbconvert_exporter": "python",
      "pygments_lexer": "ipython3",
      "version": "3.5.5"
    },
    "kernelspec": {
      "display_name": "Python 3",
      "language": "python",
      "name": "python3"
    },
    "accelerator": "TPU"
  },
  "cells": [
    {
      "cell_type": "markdown",
      "metadata": {
        "id": "1Yz9bUaJbWGE"
      },
      "source": [
        "# Linear Regression with Batch Gradient Descent\n",
        "\n",
        "You will train your model using a real world dataset.  The dataset contains a collection of real estate listings in San Luis Obispo county.\n",
        "\n",
        "https://wiki.csc.calpoly.edu/datasets/wiki/Houses\n",
        "\n",
        "To make it simpler for this assignment, the dataset has been slightly modified.  It contains the following fields:\n",
        "\n",
        "1.\tMLS: Multiple listing service number for the house (unique ID).\n",
        "2.\tPrice: the most recent listing price of the house (in dollars).\n",
        "3.\tBedrooms: number of bedrooms.\n",
        "4.\tBathrooms: number of bathrooms.\n",
        "5.\tSize: size of the house in square feet.\n",
        "6.\tPrice/SQ.ft: price of the house per square foot.\n",
        "\n",
        "The model predict the housing price given the square footage of the house.\n"
      ]
    },
    {
      "cell_type": "code",
      "metadata": {
        "colab": {
          "base_uri": "https://localhost:8080/"
        },
        "id": "rQmW2vATiieq",
        "outputId": "797bfdf2-941d-4be8-c8a3-cf33d1e8c414"
      },
      "source": [
        "from google.colab import drive\n",
        "drive.mount('/content/drive')"
      ],
      "execution_count": 3,
      "outputs": [
        {
          "output_type": "stream",
          "name": "stdout",
          "text": [
            "Drive already mounted at /content/drive; to attempt to forcibly remount, call drive.mount(\"/content/drive\", force_remount=True).\n"
          ]
        }
      ]
    },
    {
      "cell_type": "code",
      "metadata": {
        "id": "JwYPeov9i0Cj"
      },
      "source": [
        "train_path = '/content/drive/My Drive/Data/housing-prices/housing_price_data.csv'"
      ],
      "execution_count": 4,
      "outputs": []
    },
    {
      "cell_type": "code",
      "metadata": {
        "id": "5rPpln2qbWGG",
        "colab": {
          "base_uri": "https://localhost:8080/",
          "height": 204
        },
        "outputId": "7ab9e05d-0b51-4ec5-eb93-7bf99a830c13"
      },
      "source": [
        "import numpy as np\n",
        "import pandas as pd\n",
        "import numpy.matlib\n",
        "import matplotlib.pyplot as plt\n",
        "\n",
        "# read dataset\n",
        "df = pd.read_csv(train_path)\n",
        "\n",
        "df.head()"
      ],
      "execution_count": 5,
      "outputs": [
        {
          "output_type": "execute_result",
          "data": {
            "text/html": [
              "<div>\n",
              "<style scoped>\n",
              "    .dataframe tbody tr th:only-of-type {\n",
              "        vertical-align: middle;\n",
              "    }\n",
              "\n",
              "    .dataframe tbody tr th {\n",
              "        vertical-align: top;\n",
              "    }\n",
              "\n",
              "    .dataframe thead th {\n",
              "        text-align: right;\n",
              "    }\n",
              "</style>\n",
              "<table border=\"1\" class=\"dataframe\">\n",
              "  <thead>\n",
              "    <tr style=\"text-align: right;\">\n",
              "      <th></th>\n",
              "      <th>MPLS</th>\n",
              "      <th>Price</th>\n",
              "      <th>Bedrooms</th>\n",
              "      <th>Bathrooms</th>\n",
              "      <th>Size</th>\n",
              "      <th>PriceSq</th>\n",
              "    </tr>\n",
              "  </thead>\n",
              "  <tbody>\n",
              "    <tr>\n",
              "      <th>0</th>\n",
              "      <td>132842</td>\n",
              "      <td>795000</td>\n",
              "      <td>3</td>\n",
              "      <td>3</td>\n",
              "      <td>2371</td>\n",
              "      <td>335.30</td>\n",
              "    </tr>\n",
              "    <tr>\n",
              "      <th>1</th>\n",
              "      <td>134364</td>\n",
              "      <td>399000</td>\n",
              "      <td>4</td>\n",
              "      <td>3</td>\n",
              "      <td>2818</td>\n",
              "      <td>141.59</td>\n",
              "    </tr>\n",
              "    <tr>\n",
              "      <th>2</th>\n",
              "      <td>135141</td>\n",
              "      <td>545000</td>\n",
              "      <td>4</td>\n",
              "      <td>3</td>\n",
              "      <td>3032</td>\n",
              "      <td>179.75</td>\n",
              "    </tr>\n",
              "    <tr>\n",
              "      <th>3</th>\n",
              "      <td>135712</td>\n",
              "      <td>909000</td>\n",
              "      <td>4</td>\n",
              "      <td>4</td>\n",
              "      <td>3540</td>\n",
              "      <td>256.78</td>\n",
              "    </tr>\n",
              "    <tr>\n",
              "      <th>4</th>\n",
              "      <td>136282</td>\n",
              "      <td>109900</td>\n",
              "      <td>3</td>\n",
              "      <td>1</td>\n",
              "      <td>1249</td>\n",
              "      <td>87.99</td>\n",
              "    </tr>\n",
              "  </tbody>\n",
              "</table>\n",
              "</div>"
            ],
            "text/plain": [
              "     MPLS   Price  Bedrooms  Bathrooms  Size  PriceSq\n",
              "0  132842  795000         3          3  2371   335.30\n",
              "1  134364  399000         4          3  2818   141.59\n",
              "2  135141  545000         4          3  3032   179.75\n",
              "3  135712  909000         4          4  3540   256.78\n",
              "4  136282  109900         3          1  1249    87.99"
            ]
          },
          "metadata": {},
          "execution_count": 5
        }
      ]
    },
    {
      "cell_type": "code",
      "metadata": {
        "scrolled": true,
        "id": "aRqF_u8NbWGM",
        "colab": {
          "base_uri": "https://localhost:8080/",
          "height": 290
        },
        "outputId": "c5e1bf61-3044-47ae-b8ca-401f9f862563"
      },
      "source": [
        "# Plot data points\n",
        "X, y = (df[\"Size\"].values,df[\"Price\"].values)\n",
        "X = X.reshape(len(X),1)\n",
        "y = y.reshape(len(y),1)\n",
        "\n",
        "# plots the data points\n",
        "plt.plot(X, y, 'ro')\n",
        "plt.xlabel(\"# Square footage\")\n",
        "plt.ylabel(\"Price\")\n",
        "plt.show()"
      ],
      "execution_count": 6,
      "outputs": [
        {
          "output_type": "display_data",
          "data": {
            "image/png": "[encoded data removed]",
            "text/plain": [
              "<Figure size 432x288 with 1 Axes>"
            ]
          },
          "metadata": {
            "needs_background": "light"
          }
        }
      ]
    },
    {
      "cell_type": "code",
      "metadata": {
        "id": "ROuUVItqbWGR",
        "colab": {
          "base_uri": "https://localhost:8080/"
        },
        "outputId": "9bc632c6-511a-4bef-fc4e-67047dd9f554"
      },
      "source": [
        "# Normalize the house size, e.g., subtract min and divide by (max-min) to ensure \n",
        "# the scale is compatible with the bias, which is 1\n",
        "max_min = X.max(0) - X.min(0)\n",
        "Xmin = X.min(0)\n",
        "X = (X-Xmin) / max_min\n",
        "\n",
        "# Add bias\n",
        "z=np.ones((len(X),1)) \n",
        "X = X.reshape(len(X),1)\n",
        "X = np.concatenate((z,X), axis=1)                \n",
        "y = y.reshape(len(X),1) \n",
        "\n",
        "# sort for testing/plotting\n",
        "Xsort = np.sort(X, axis=0)\n",
        "\n",
        "print(X.shape)\n",
        "print(y.shape)\n",
        "\n",
        "# For non-vectorized\n",
        "X_train = X[:,1]\n",
        "y_train = y\n"
      ],
      "execution_count": 7,
      "outputs": [
        {
          "output_type": "stream",
          "name": "stdout",
          "text": [
            "(781, 2)\n",
            "(781, 1)\n"
          ]
        }
      ]
    },
    {
      "cell_type": "markdown",
      "metadata": {
        "id": "nNgLG_ZmbWGW"
      },
      "source": [
        "## Perform gradient descent"
      ]
    },
    {
      "cell_type": "code",
      "metadata": {
        "colab": {
          "base_uri": "https://localhost:8080/",
          "height": 276
        },
        "id": "7Rq7KEkTQl7n",
        "outputId": "c75e2745-5868-4edc-89d3-c27b61e5f6ef"
      },
      "source": [
        "\n",
        "plt.plot(X_train,y_train)\n",
        "plt.show()"
      ],
      "execution_count": 8,
      "outputs": [
        {
          "output_type": "display_data",
          "data": {
            "image/png": "[encoded data removed]",
            "text/plain": [
              "<Figure size 432x288 with 1 Axes>"
            ]
          },
          "metadata": {
            "needs_background": "light"
          }
        }
      ]
    },
    {
      "cell_type": "code",
      "metadata": {
        "id": "L2KhyZwzbWGX"
      },
      "source": [
        "# Initialize vector w \n",
        "np.random.seed(20)\n",
        "w = np.random.rand(2,1)\n",
        "w0 = w[0]\n",
        "w1 = w[1]\n",
        "\n",
        "# Learning rate\n",
        "nu = 0.01\n",
        "\n",
        "N = len(y)\n",
        "\n",
        "# Number of epochs\n",
        "MAX_EPOCHS = 2000\n",
        "\n",
        "mse_array = []  \n",
        "mse = 0\n",
        "# Loop for 2000 epochs\n",
        "for itr in range (0, MAX_EPOCHS):\n",
        "\n",
        "\n",
        "    # X_train is 781x1 and y_train is 781x1\n",
        "    X_train = X_train.reshape(781,1)\n",
        "    y_train = y_train.reshape(781,1)\n",
        "\n",
        "    # TO DO: write update equation\n",
        "    yhat = w1 * X_train + w0\n",
        "\n",
        "    dW1 = (2/N) * sum(X_train * (yhat - y_train))\n",
        "    dW0 = (2/N) * sum(yhat - y_train)\n",
        "\n",
        "    w1 = w1 - nu * dW1\n",
        "    w0 = w0 - nu * dW0    \n",
        "    \n",
        "    # TO DO: compute mse\n",
        "    #mse = mse + (w0+(w1*X_train[itr])-y_train[itr])\n",
        "    #mse = 1/len(X_train) * mse\n",
        "    mse = np.sum((y_pred - y_train)**2)\n",
        "    \n",
        "    mse = mse/2*len(X)\n",
        "\n",
        "    # Store MSE results for the plot\n",
        "    mse_array.append(mse)"
      ],
      "execution_count": 19,
      "outputs": []
    },
    {
      "cell_type": "code",
      "metadata": {
        "colab": {
          "base_uri": "https://localhost:8080/"
        },
        "id": "FgoOb1XdKgfu",
        "outputId": "4653c2b2-efad-4fcd-c169-e551d3a284ea"
      },
      "source": [
        "print(w1,w0)"
      ],
      "execution_count": 20,
      "outputs": [
        {
          "output_type": "stream",
          "name": "stdout",
          "text": [
            "[870111.73753049] [173944.98886184]\n"
          ]
        }
      ]
    },
    {
      "cell_type": "code",
      "metadata": {
        "id": "uaULdJl49Owi"
      },
      "source": [
        "### IMPORTANT ###\n",
        "## If non-vectorized, then need to form w\n",
        "w = np.array([w0,w1])"
      ],
      "execution_count": 21,
      "outputs": []
    },
    {
      "cell_type": "markdown",
      "metadata": {
        "id": "PlrECN4Ug5Lu"
      },
      "source": [
        ""
      ]
    },
    {
      "cell_type": "code",
      "metadata": {
        "id": "L4hBzd0RbWGa",
        "colab": {
          "base_uri": "https://localhost:8080/",
          "height": 290
        },
        "outputId": "ed44d798-c00d-44d3-b759-d4a593395a11"
      },
      "source": [
        "### Plot mse vs iterations\n",
        "plt.plot(mse_array)  \n",
        "plt.xlabel(\"Epochs\")\n",
        "plt.ylabel(\"mse\")\n",
        "plt.show()"
      ],
      "execution_count": 22,
      "outputs": [
        {
          "output_type": "display_data",
          "data": {
            "image/png": "[encoded data removed]",
            "text/plain": [
              "<Figure size 432x288 with 1 Axes>"
            ]
          },
          "metadata": {
            "needs_background": "light"
          }
        }
      ]
    },
    {
      "cell_type": "code",
      "metadata": {
        "id": "-BsghsXObWGf",
        "colab": {
          "base_uri": "https://localhost:8080/",
          "height": 290
        },
        "outputId": "4cbfd4ed-d96e-49dd-86d7-0faff8063b8e"
      },
      "source": [
        "### Plot the fitted curve\n",
        "\n",
        "yhat = np.dot(np.sort(X, axis=0),w)\n",
        "\n",
        "plt.plot(X[:,1] * max_min, y, 'ro')\n",
        "plt.plot(Xsort[:,1] *max_min + Xmin, yhat, 'b', label=\"Gradient descent\")\n",
        "plt.legend()\n",
        "plt.xlabel(\"# Square footage\")\n",
        "plt.ylabel(\"Price\")\n",
        "plt.show()\n"
      ],
      "execution_count": 23,
      "outputs": [
        {
          "output_type": "display_data",
          "data": {
            "image/png": "[encoded data removed]",
            "text/plain": [
              "<Figure size 432x288 with 1 Axes>"
            ]
          },
          "metadata": {
            "needs_background": "light"
          }
        }
      ]
    },
    {
      "cell_type": "code",
      "metadata": {
        "id": "IKV3TcRBN742",
        "colab": {
          "base_uri": "https://localhost:8080/"
        },
        "outputId": "e13906c6-3aa1-4b55-a70c-1ab82dd964e3"
      },
      "source": [
        "### Print the weight vector w\n",
        "print (w)"
      ],
      "execution_count": 24,
      "outputs": [
        {
          "output_type": "stream",
          "name": "stdout",
          "text": [
            "[[173944.98886184]\n",
            " [870111.73753049]]\n"
          ]
        }
      ]
    },
    {
      "cell_type": "code",
      "metadata": {
        "id": "Fw2MXmi4bWGl",
        "colab": {
          "base_uri": "https://localhost:8080/"
        },
        "outputId": "31870401-a7aa-4268-b4d4-a702d4c085d8"
      },
      "source": [
        "### Predict the price of a 5000 sqft house\n",
        "### Remember to normalize it first\n",
        "house_size = 5000\n",
        "house_size_normalized = (house_size - Xmin)/max_min\n",
        "y_pred = w[0] + w1*[house_size_normalized]\n",
        "\n",
        "print(y_pred)"
      ],
      "execution_count": 25,
      "outputs": [
        {
          "output_type": "stream",
          "name": "stdout",
          "text": [
            "[[809595.47975238]]\n"
          ]
        }
      ]
    },
    {
      "cell_type": "code",
      "metadata": {
        "id": "Ow9Pt7ZAkzvT"
      },
      "source": [
        ""
      ],
      "execution_count": 21,
      "outputs": []
    },
    {
      "cell_type": "code",
      "metadata": {
        "id": "UE_NUIJVQltk"
      },
      "source": [
        ""
      ],
      "execution_count": null,
      "outputs": []
    }
  ]
}